{
 "cells": [
  {
   "cell_type": "markdown",
   "id": "e601ab0e",
   "metadata": {},
   "source": [
    "# COVID-19 Cases Analysis"
   ]
  },
  {
   "cell_type": "code",
   "execution_count": 1,
   "id": "a026f9f7",
   "metadata": {},
   "outputs": [
    {
     "name": "stdout",
     "output_type": "stream",
     "text": [
      "        dateRep  day  month  year  cases  deaths countriesAndTerritories\n",
      "0    2021-05-31   31      5  2021    366       5                 Austria\n",
      "1    2021-05-30   30      5  2021    570       6                 Austria\n",
      "2    2021-05-29   29      5  2021    538      11                 Austria\n",
      "3    2021-05-28   28      5  2021    639       4                 Austria\n",
      "4    2021-05-27   27      5  2021    405      19                 Austria\n",
      "...         ...  ...    ...   ...    ...     ...                     ...\n",
      "2725 2021-03-06    6      3  2021   3455      17                  Sweden\n",
      "2726 2021-03-05    5      3  2021   4069      12                  Sweden\n",
      "2727 2021-03-04    4      3  2021   4884      14                  Sweden\n",
      "2728 2021-03-03    3      3  2021   4876      19                  Sweden\n",
      "2729 2021-03-02    2      3  2021   6191      19                  Sweden\n",
      "\n",
      "[2730 rows x 7 columns]\n"
     ]
    }
   ],
   "source": [
    "# Reading the Excel file into a Pandas DataFrame\n",
    "import pandas as pd\n",
    "file_path = r'C:\\Users\\sankar\\Desktop\\Covid_19_cases4.xlsx'\n",
    "\n",
    "# Load the Excel file into a Pandas DataFrame\n",
    "data = pd.read_excel(file_path)\n",
    "print(data)"
   ]
  },
  {
   "cell_type": "code",
   "execution_count": 2,
   "id": "b64ce482",
   "metadata": {},
   "outputs": [],
   "source": [
    "# Creating copy of original data\n",
    "cdata=data.copy()"
   ]
  },
  {
   "cell_type": "code",
   "execution_count": 3,
   "id": "7aa3445f",
   "metadata": {},
   "outputs": [
    {
     "name": "stdout",
     "output_type": "stream",
     "text": [
      "<class 'pandas.core.frame.DataFrame'>\n",
      "RangeIndex: 2730 entries, 0 to 2729\n",
      "Data columns (total 7 columns):\n",
      " #   Column                   Non-Null Count  Dtype         \n",
      "---  ------                   --------------  -----         \n",
      " 0   dateRep                  2730 non-null   datetime64[ns]\n",
      " 1   day                      2730 non-null   int64         \n",
      " 2   month                    2730 non-null   int64         \n",
      " 3   year                     2730 non-null   int64         \n",
      " 4   cases                    2730 non-null   int64         \n",
      " 5   deaths                   2730 non-null   int64         \n",
      " 6   countriesAndTerritories  2730 non-null   object        \n",
      "dtypes: datetime64[ns](1), int64(5), object(1)\n",
      "memory usage: 149.4+ KB\n"
     ]
    }
   ],
   "source": [
    "# Structure of the dataset\n",
    "cdata.info()"
   ]
  },
  {
   "cell_type": "code",
   "execution_count": 4,
   "id": "1a904397",
   "metadata": {},
   "outputs": [
    {
     "name": "stdout",
     "output_type": "stream",
     "text": [
      "               day        month    year         cases       deaths\n",
      "count  2730.000000  2730.000000  2730.0   2730.000000  2730.000000\n",
      "mean     16.000000     4.010989  2021.0   3661.010989    65.291941\n",
      "std       8.765919     0.818813     0.0   6490.510073   113.956634\n",
      "min       1.000000     3.000000  2021.0  -2001.000000    -3.000000\n",
      "25%       8.000000     3.000000  2021.0    361.250000     2.000000\n",
      "50%      16.000000     4.000000  2021.0    926.500000    14.500000\n",
      "75%      24.000000     5.000000  2021.0   3916.250000    72.000000\n",
      "max      31.000000     5.000000  2021.0  53843.000000   956.000000\n"
     ]
    }
   ],
   "source": [
    "# Summary of numerical variables\n",
    "summary_num = cdata.describe()\n",
    "print(summary_num) "
   ]
  },
  {
   "cell_type": "code",
   "execution_count": 5,
   "id": "df17cda8",
   "metadata": {},
   "outputs": [
    {
     "name": "stdout",
     "output_type": "stream",
     "text": [
      "       countriesAndTerritories\n",
      "count                     2730\n",
      "unique                      30\n",
      "top                    Austria\n",
      "freq                        91\n"
     ]
    }
   ],
   "source": [
    "#Summary of categorical variables\n",
    "summary_cate = cdata.describe(include = \"O\")\n",
    "print(summary_cate)"
   ]
  },
  {
   "cell_type": "code",
   "execution_count": 6,
   "id": "4e5d9c80",
   "metadata": {},
   "outputs": [],
   "source": [
    "# Removing duplicate records\n",
    "cdata.drop_duplicates(keep='first',inplace=True)"
   ]
  },
  {
   "cell_type": "code",
   "execution_count": 7,
   "id": "c34813eb",
   "metadata": {},
   "outputs": [
    {
     "name": "stdout",
     "output_type": "stream",
     "text": [
      "Data columns with null values:\n",
      " dateRep                    0\n",
      "day                        0\n",
      "month                      0\n",
      "year                       0\n",
      "cases                      0\n",
      "deaths                     0\n",
      "countriesAndTerritories    0\n",
      "dtype: int64\n"
     ]
    }
   ],
   "source": [
    "# Check for missing values             \n",
    "cdata.isnull()                 \n",
    "print('Data columns with null values:\\n', cdata.isnull().sum())"
   ]
  },
  {
   "cell_type": "code",
   "execution_count": 8,
   "id": "3adf2407",
   "metadata": {},
   "outputs": [
    {
     "name": "stdout",
     "output_type": "stream",
     "text": [
      "Mean Daily Cases: 3661.010989010989\n",
      "Mean Daily Deaths: 65.29194139194139\n",
      "Standard Deviation of Daily Cases: 6490.510073102111\n",
      "Standard Deviation of Daily Deaths: 113.95663405806982\n"
     ]
    }
   ],
   "source": [
    "# Calculate Mean Daily Cases\n",
    "mean_daily_cases = cdata['cases'].mean()\n",
    "print(\"Mean Daily Cases:\", mean_daily_cases)\n",
    "\n",
    "# Calculate Mean Daily Deaths\n",
    "mean_daily_deaths = cdata['deaths'].mean()\n",
    "print(\"Mean Daily Deaths:\", mean_daily_deaths)\n",
    "\n",
    "# Calculate Standard Deviation of Daily Cases\n",
    "std_daily_cases = cdata['cases'].std()\n",
    "print(\"Standard Deviation of Daily Cases:\", std_daily_cases)\n",
    "\n",
    "# Calculate Standard Deviation of Daily Deaths\n",
    "std_daily_deaths = cdata['deaths'].std()\n",
    "print(\"Standard Deviation of Daily Deaths:\", std_daily_deaths)"
   ]
  },
  {
   "cell_type": "code",
   "execution_count": null,
   "id": "bd341d05",
   "metadata": {},
   "outputs": [],
   "source": []
  }
 ],
 "metadata": {
  "kernelspec": {
   "display_name": "Python 3 (ipykernel)",
   "language": "python",
   "name": "python3"
  },
  "language_info": {
   "codemirror_mode": {
    "name": "ipython",
    "version": 3
   },
   "file_extension": ".py",
   "mimetype": "text/x-python",
   "name": "python",
   "nbconvert_exporter": "python",
   "pygments_lexer": "ipython3",
   "version": "3.11.3"
  }
 },
 "nbformat": 4,
 "nbformat_minor": 5
}
